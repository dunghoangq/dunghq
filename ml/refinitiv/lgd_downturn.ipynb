{
 "cells": [
  {
   "cell_type": "markdown",
   "metadata": {},
   "source": [
    "# LIBRARIES"
   ]
  },
  {
   "cell_type": "code",
   "execution_count": 4,
   "metadata": {},
   "outputs": [
    {
     "name": "stdout",
     "output_type": "stream",
     "text": [
      "The line_profiler extension is already loaded. To reload it, use:\n",
      "  %reload_ext line_profiler\n",
      "The cython extension is already loaded. To reload it, use:\n",
      "  %reload_ext cython\n"
     ]
    }
   ],
   "source": [
    "import os, sys\n",
    "\n",
    "import pandas as pd\n",
    "import numpy as np\n",
    "\n",
    "import matplotlib.pyplot as plt\n",
    "import matplotlib.dates as mdates\n",
    "import seaborn as sns\n",
    "\n",
    "%load_ext line_profiler\n",
    "%load_ext cython"
   ]
  },
  {
   "cell_type": "markdown",
   "metadata": {},
   "source": [
    "# FUNCTIONS"
   ]
  },
  {
   "cell_type": "code",
   "execution_count": 5,
   "metadata": {},
   "outputs": [],
   "source": [
    "def plotting_single(df, feature, feature_label, x_label, title):\n",
    "    fig, ax2 = plt.subplots(figsize=(20, 10))\n",
    "    date_form = mdates.DateFormatter(\"%Y-%m\")\n",
    "    ax2.plot(pd.to_datetime(df.Date), df[feature], color='b', label=feature_label)\n",
    "    ax2.set_ylabel(feature_label, color='b')\n",
    "    ax2.set_xlabel(x_label)\n",
    "    ax2.tick_params(axis='y', labelcolor='b')\n",
    "    plt.xticks(rotation=45)\n",
    "    plt.gca().xaxis.set_major_locator(plt.MaxNLocator(30))\n",
    "    plt.gca().xaxis.set_major_formatter(date_form)\n",
    "    plt.title(title)\n",
    "    plt.show()"
   ]
  },
  {
   "cell_type": "markdown",
   "metadata": {},
   "source": [
    "# DATA"
   ]
  },
  {
   "cell_type": "code",
   "execution_count": 6,
   "metadata": {},
   "outputs": [],
   "source": [
    "df_gdp = pd.read_csv('data/gdp.csv')\n",
    "df_cons_prices = pd.read_csv('data/cons_prices.csv')\n",
    "df_unemp_rate = pd.read_csv('data/unemp_rate.csv')\n",
    "df_vnd = pd.read_csv('data/vnd.csv')"
   ]
  },
  {
   "cell_type": "markdown",
   "metadata": {},
   "source": [
    "# VISUALISATION"
   ]
  }
 ],
 "metadata": {
  "kernelspec": {
   "display_name": "Python 3",
   "language": "python",
   "name": "python3"
  },
  "language_info": {
   "codemirror_mode": {
    "name": "ipython",
    "version": 3
   },
   "file_extension": ".py",
   "mimetype": "text/x-python",
   "name": "python",
   "nbconvert_exporter": "python",
   "pygments_lexer": "ipython3",
   "version": "3.12.1"
  }
 },
 "nbformat": 4,
 "nbformat_minor": 2
}
