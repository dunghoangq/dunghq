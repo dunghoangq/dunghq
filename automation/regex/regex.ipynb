{
 "cells": [
  {
   "cell_type": "markdown",
   "metadata": {},
   "source": [
    "# LIBRARIES"
   ]
  },
  {
   "cell_type": "code",
   "execution_count": 1,
   "metadata": {},
   "outputs": [],
   "source": [
    "import re"
   ]
  },
  {
   "cell_type": "markdown",
   "metadata": {},
   "source": [
    "# re.search()"
   ]
  },
  {
   "cell_type": "code",
   "execution_count": 7,
   "metadata": {},
   "outputs": [],
   "source": [
    "text = '''Hello World.\n",
    "I love Python!!!!!\n",
    "My first lucky number is 987-654-321\n",
    "My second lucky number is 876-543-210\n",
    "My third lucky number is 765-432-100\n",
    "My fourth lucky number is 123-456-123-123-456\n",
    "'''"
   ]
  },
  {
   "cell_type": "code",
   "execution_count": 4,
   "metadata": {},
   "outputs": [
    {
     "data": {
      "text/plain": [
       "<re.Match object; span=(58, 59), match='9'>"
      ]
     },
     "execution_count": 4,
     "metadata": {},
     "output_type": "execute_result"
    }
   ],
   "source": [
    "# return the first match\n",
    "re.search(r'\\d', text)"
   ]
  },
  {
   "cell_type": "code",
   "execution_count": 8,
   "metadata": {},
   "outputs": [
    {
     "data": {
      "text/plain": [
       "<re.Match object; span=(0, 5), match='Hello'>"
      ]
     },
     "execution_count": 8,
     "metadata": {},
     "output_type": "execute_result"
    }
   ],
   "source": [
    "# flags\n",
    "re.search(r'^hello', text, flags=re.I)"
   ]
  },
  {
   "cell_type": "markdown",
   "metadata": {},
   "source": [
    "# re.findall()"
   ]
  },
  {
   "cell_type": "code",
   "execution_count": 9,
   "metadata": {},
   "outputs": [
    {
     "data": {
      "text/plain": [
       "['9',\n",
       " '8',\n",
       " '7',\n",
       " '6',\n",
       " '5',\n",
       " '4',\n",
       " '3',\n",
       " '2',\n",
       " '1',\n",
       " '8',\n",
       " '7',\n",
       " '6',\n",
       " '5',\n",
       " '4',\n",
       " '3',\n",
       " '2',\n",
       " '1',\n",
       " '0',\n",
       " '7',\n",
       " '6',\n",
       " '5',\n",
       " '4',\n",
       " '3',\n",
       " '2',\n",
       " '1',\n",
       " '0',\n",
       " '0',\n",
       " '1',\n",
       " '2',\n",
       " '3',\n",
       " '4',\n",
       " '5',\n",
       " '6',\n",
       " '1',\n",
       " '2',\n",
       " '3',\n",
       " '1',\n",
       " '2',\n",
       " '3',\n",
       " '4',\n",
       " '5',\n",
       " '6']"
      ]
     },
     "execution_count": 9,
     "metadata": {},
     "output_type": "execute_result"
    }
   ],
   "source": [
    "# return all matches\n",
    "re.findall(r'\\d', text)"
   ]
  },
  {
   "cell_type": "code",
   "execution_count": null,
   "metadata": {},
   "outputs": [],
   "source": [
    "# match right date format MM/DD/YYYY\n",
    "text = '''\n",
    "13-04-2021\n",
    "2021-13-04\n",
    "2021-04-13\n",
    "'''"
   ]
  }
 ],
 "metadata": {
  "kernelspec": {
   "display_name": "Python 3",
   "language": "python",
   "name": "python3"
  },
  "language_info": {
   "codemirror_mode": {
    "name": "ipython",
    "version": 3
   },
   "file_extension": ".py",
   "mimetype": "text/x-python",
   "name": "python",
   "nbconvert_exporter": "python",
   "pygments_lexer": "ipython3",
   "version": "3.12.1"
  }
 },
 "nbformat": 4,
 "nbformat_minor": 2
}
